{
 "cells": [
  {
   "cell_type": "code",
   "execution_count": null,
   "metadata": {},
   "outputs": [],
   "source": [
    "from transformers import AutoModelForCausalLM, AutoTokenizer, TextStreamer\n",
    "from transformers import pipeline\n",
    "import torch\n",
    "\n",
    "model_id = \"MaziyarPanahi/Llama-3-8B-Instruct-v0.8\"\n",
    "\n",
    "model = AutoModelForCausalLM.from_pretrained(\n",
    "    model_id,\n",
    "    torch_dtype=torch.bfloat16,\n",
    "    device_map=\"auto\",\n",
    "    trust_remote_code=True,\n",
    "    # attn_implementation=\"flash_attention_2\"\n",
    ")\n",
    "\n",
    "tokenizer = AutoTokenizer.from_pretrained(\n",
    "    model_id,\n",
    "    trust_remote_code=True\n",
    ")\n",
    "\n",
    "streamer = TextStreamer(tokenizer)\n",
    "\n",
    "pipeline = pipeline(\n",
    "    \"text-generation\",\n",
    "    model=model,\n",
    "    tokenizer=tokenizer,\n",
    "    model_kwargs={\"torch_dtype\": torch.bfloat16},\n",
    "    streamer=streamer\n",
    ")\n",
    "\n",
    "# Then you can use the pipeline to generate text.\n",
    "\n",
    "messages = [\n",
    "    {\"role\": \"system\", \"content\": \"You are a pirate chatbot who always responds in pirate speak!\"},\n",
    "    {\"role\": \"user\", \"content\": \"Who are you?\"},\n",
    "]\n",
    "\n",
    "prompt = tokenizer.apply_chat_template(\n",
    "    messages,\n",
    "    tokenize=False,\n",
    "    add_generation_prompt=True\n",
    ")\n",
    "\n",
    "terminators = [\n",
    "    tokenizer.eos_token_id,    \n",
    "    tokenizer.convert_tokens_to_ids(\"<|eot_id|>\")\n",
    "]\n",
    "\n",
    "outputs = pipeline(\n",
    "    prompt,\n",
    "    max_new_tokens=512,\n",
    "    eos_token_id=terminators,\n",
    "    do_sample=True,\n",
    "    temperature=0.6,\n",
    "    top_p=0.95,\n",
    ")\n",
    "print(outputs[0][\"generated_text\"][len(prompt):])\n"
   ]
  },
  {
   "cell_type": "code",
   "execution_count": null,
   "metadata": {},
   "outputs": [],
   "source": []
  },
  {
   "cell_type": "code",
   "execution_count": 15,
   "metadata": {},
   "outputs": [],
   "source": [
    "msg='''You are a men's fashion expert with extensive knowledge of clothing styles, clothing types and their combinations. I'm going to give you a clothing style, season for combinations, a list of clothing types with their parameters, and I want:\n",
    "\n",
    "Combine types of clothing with each other if you think that the combination of clothes fits the specified style, season, and fits the look that is fashionable to wear. \n",
    "Provide all combinations. Exclude combinations, if they are not matching with the input conditions.\n",
    "\n",
    "\n",
    "Input format:\n",
    "Number of output outfits: 9\n",
    "\n",
    "Clothing style: \"{value}\"\n",
    "Season for outfits: \"{value}\"\n",
    "List of clothing types: [\n",
    "\"{value1}\",\n",
    "\"{value2}\",\n",
    "\"{value3}\",\n",
    "…\n",
    "]\n",
    "\n",
    "\n",
    "output format:\n",
    "\n",
    "\n",
    "List of outfits: [\n",
    "{\n",
    "\"outerwear\": \"{value}\",\n",
    "\"top\": \"{value}\",\n",
    "\"bottom\": \"{value}\",\n",
    "\"footwear\": \"{value}\"\n",
    "},\n",
    "…\n",
    "]\n",
    "\n",
    "Categories top, bottom, footwear, outwear can not be null.\n",
    "\n",
    "Now do the work for the following input:\n",
    "\n",
    "Clothing style: \"casual\"\n",
    "Season: \"winter\"\n",
    "List of clothing types: [\n",
    "\"extended-length coat\",\n",
    "\"regular-length coat\",\n",
    "\"Slim-cut pullover\",\n",
    "\"Oversize-cut pullover\",\n",
    "\"Oversize-cut down-jacket\",\n",
    "\"Regular-cut down-jacket\",\n",
    "\"regular-length V-neck-neckline t-shirt\", \n",
    "\"Oversize-cut boat-neckline t-shirt\", \n",
    "\"regular-waist baggy-cut jeans\", \n",
    "\"high-waist baggy-cut jeans\",\n",
    "\"regular-waist straight-cut jeans\", \n",
    "\"regular-waist flared-cut jeans\", \n",
    "\"low-top sneakers\", \n",
    "\"regular-length V-neck-neckline sweater\",\n",
    "\"chukka_boots\",\n",
    "\"uggs_boots\",\n",
    "\"boots\",\n",
    "\"dress_shoes\"\n",
    "]\n",
    "\n",
    "\n",
    "If there are not enough items to match correspoing Number of output outfits then just finish\n",
    "In output do not add additional information only output'''"
   ]
  },
  {
   "cell_type": "code",
   "execution_count": null,
   "metadata": {},
   "outputs": [],
   "source": [
    "messages = [\n",
    "    {\"role\": \"user\", \"content\": msg},\n",
    "]\n",
    "\n",
    "prompt = tokenizer.apply_chat_template(\n",
    "    messages,\n",
    "    tokenize=False,\n",
    "    add_generation_prompt=True\n",
    ")\n",
    "\n",
    "terminators = [\n",
    "    tokenizer.eos_token_id,    \n",
    "    tokenizer.convert_tokens_to_ids(\"<|eot_id|>\")\n",
    "]\n",
    "\n",
    "outputs = pipeline(\n",
    "    prompt,\n",
    "    max_new_tokens=10000,\n",
    "    eos_token_id=terminators,\n",
    "    do_sample=True,\n",
    "    temperature=0.6,\n",
    "    top_p=0.95,\n",
    ")\n",
    "print(outputs[0][\"generated_text\"][len(prompt):])\n"
   ]
  },
  {
   "cell_type": "code",
   "execution_count": null,
   "metadata": {},
   "outputs": [],
   "source": [
    "print(outputs[0][\"generated_text\"][len(prompt):])"
   ]
  },
  {
   "cell_type": "markdown",
   "metadata": {},
   "source": [
    "# prepare data for llm"
   ]
  },
  {
   "cell_type": "code",
   "execution_count": 18,
   "metadata": {},
   "outputs": [],
   "source": [
    "import pandas as pd\n",
    "import json \n",
    "with open('data/female-style-type.json') as f:\n",
    "    female_style_type = json.load(f)\n",
    "with open('data/male-style-type.json') as f:\n",
    "    male_style_type = json.load(f)\n",
    "\n",
    "female_style_type_df=pd.DataFrame(female_style_type).explode('types').reset_index(drop=True)\n",
    "male_style_type_df=pd.DataFrame(male_style_type).explode('types').reset_index(drop=True)"
   ]
  },
  {
   "cell_type": "code",
   "execution_count": 19,
   "metadata": {},
   "outputs": [],
   "source": [
    "with open('data/female-types-with-parameters.json') as f:\n",
    "    female_types_with_parameters = json.load(f)\n",
    "with open('data/female-types.json') as f:\n",
    "    female_types = json.load(f)\n",
    "with open('data/male-types-with-parameters.json') as f:\n",
    "    male_types_with_parameters = json.load(f)\n",
    "with open('data/male-types.json') as f:\n",
    "    male_types = json.load(f)\n"
   ]
  },
  {
   "cell_type": "code",
   "execution_count": 20,
   "metadata": {},
   "outputs": [],
   "source": [
    "import itertools\n",
    "def get_parameters_combinations(value):\n",
    "    if type(value)!=list:\n",
    "        return value\n",
    "    result=[]\n",
    "    for l in itertools.product(*value):\n",
    "        result.append(list(l))\n",
    "    return result\n",
    "\n",
    "def get_param_value_union(list_values,column,column2):\n",
    "    if type(list_values)!=list:\n",
    "        return list_values\n",
    "    interim=[]\n",
    "    for i in list_values:\n",
    "        params=i[column]\n",
    "        params= [i[column2] + '-' + j for j in params]\n",
    "        interim.append(params)\n",
    "    return interim\n",
    "\n",
    "def get_promt_text_params(clothing_type, parameters_combinations):\n",
    "    if type(parameters_combinations)!=list:\n",
    "        return clothing_type\n",
    "    result=''\n",
    "    for text in parameters_combinations:\n",
    "        result+=' '+text\n",
    "    # clothing_type=clothing_type.replace('_',' ')\n",
    "    result=result+' '+clothing_type\n",
    "    return result"
   ]
  },
  {
   "cell_type": "code",
   "execution_count": 21,
   "metadata": {},
   "outputs": [],
   "source": [
    "def get_df_with_clothing_promt(gender_types,gender_types_with_parameters):\n",
    "    gender_types_df=pd.DataFrame(gender_types)\n",
    "    gender_types_with_parameters_df=pd.DataFrame(gender_types_with_parameters)\n",
    "    df=gender_types_df.merge(gender_types_with_parameters_df, left_on='type', right_on='clothes_type',how='left')\n",
    "            #flatten df to get more explicit view\n",
    "    df['paramValueUnion']=df.parameters.apply(lambda x: get_param_value_union(x,'values','name'))\n",
    "    df['paramCombinations']=df.paramValueUnion.apply(lambda x: get_parameters_combinations(x))\n",
    "    df=df.explode('paramCombinations').reset_index(drop=True)\n",
    "    df['promtTypeParams']=df.apply(lambda x: get_promt_text_params(clothing_type=x['type'],parameters_combinations=x['paramCombinations']),axis=1)\n",
    "    return df "
   ]
  },
  {
   "cell_type": "code",
   "execution_count": 22,
   "metadata": {},
   "outputs": [],
   "source": [
    "female_df_clothing_promt=get_df_with_clothing_promt(gender_types=female_types,gender_types_with_parameters=female_types_with_parameters)\n",
    "male_df_clothing_promt=get_df_with_clothing_promt(gender_types=male_types,gender_types_with_parameters=male_types_with_parameters)"
   ]
  },
  {
   "cell_type": "code",
   "execution_count": 27,
   "metadata": {},
   "outputs": [
    {
     "data": {
      "text/plain": [
       "array(['sweatshirt', 'hoodie', 'turtleneck', 'sweater', 'cardigan',\n",
       "       'vest', 't-shirt', 'long_sleeve_t-shirt', 'polo',\n",
       "       'short_sleeve_shirt', 'long_sleeve_shirt', 'denim_shirt',\n",
       "       'linen_shirt', 'blazer'], dtype=object)"
      ]
     },
     "execution_count": 27,
     "metadata": {},
     "output_type": "execute_result"
    }
   ],
   "source": [
    "male_df_clothing_promt[male_df_clothing_promt['category']=='top']['type'].unique()"
   ]
  },
  {
   "cell_type": "code",
   "execution_count": 14,
   "metadata": {},
   "outputs": [],
   "source": [
    "df_female_style_promt=female_style_type_df.merge(female_df_clothing_promt,left_on='types',right_on='type')\n",
    "df_male_style_promt=male_style_type_df.merge(male_df_clothing_promt,left_on='types',right_on='type')"
   ]
  },
  {
   "cell_type": "code",
   "execution_count": 15,
   "metadata": {},
   "outputs": [],
   "source": [
    "df_female_style_promt=df_female_style_promt.groupby(['styleType','category'],as_index=False)['promtTypeParams'].apply(list)\n",
    "df_male_style_promt=df_male_style_promt.groupby(['styleType','category'],as_index=False)['promtTypeParams'].apply(list)"
   ]
  },
  {
   "cell_type": "code",
   "execution_count": 21,
   "metadata": {},
   "outputs": [],
   "source": [
    "df_female_style_promt['promtTypeParams']=df_female_style_promt.apply(lambda x: {x['category']:x['promtTypeParams']},axis=1)\n",
    "df_male_style_promt['promtTypeParams']=df_male_style_promt.apply(lambda x: {x['category']:x['promtTypeParams']},axis=1)\n"
   ]
  },
  {
   "cell_type": "code",
   "execution_count": 23,
   "metadata": {},
   "outputs": [],
   "source": [
    "df_female_style_promt=df_female_style_promt.groupby(['styleType'],as_index=False)['promtTypeParams'].apply(list)\n",
    "df_male_style_promt=df_male_style_promt.groupby(['styleType'],as_index=False)['promtTypeParams'].apply(list)"
   ]
  },
  {
   "cell_type": "markdown",
   "metadata": {},
   "source": [
    "# llm part"
   ]
  },
  {
   "cell_type": "markdown",
   "metadata": {},
   "source": [
    "16000 - комбинаций\n",
    "9600 - женщины\n",
    "6400 - мужчины\n",
    "{'casual':3,'classic':1,'smart-casual':2,'street':1,old-money:1,oversized:1,minimalism:1}"
   ]
  },
  {
   "cell_type": "code",
   "execution_count": 1,
   "metadata": {},
   "outputs": [],
   "source": [
    "import pandas as pd \n",
    "from ast import literal_eval\n",
    "df_female_style_promt=pd.read_csv('data/female_style_promt.csv',index_col=0)\n",
    "df_male_style_promt=pd.read_csv('data/male_style_promt.csv',index_col=0)\n",
    "df_female_style_promt['promtTypeParams']=df_female_style_promt['promtTypeParams'].apply(literal_eval)\n",
    "df_male_style_promt['promtTypeParams']=df_male_style_promt['promtTypeParams'].apply(literal_eval)\n"
   ]
  },
  {
   "cell_type": "code",
   "execution_count": 2,
   "metadata": {},
   "outputs": [],
   "source": [
    "df_styleProportion=pd.DataFrame([{'casual':3,'classic':1,'smart-casual':2,'street':1,'old-money':1,'oversized':1,'minimalism':1}]).T.reset_index()\\\n",
    "    .rename(columns={'index':'styleType',0:'proportionPriority'})\n",
    "df_styleProportion['proportionPriority']=df_styleProportion.proportionPriority/df_styleProportion.proportionPriority.sum()"
   ]
  },
  {
   "cell_type": "code",
   "execution_count": 3,
   "metadata": {},
   "outputs": [],
   "source": [
    "df_female_style_promt=df_female_style_promt.merge(df_styleProportion,on='styleType')\n",
    "df_male_style_promt=df_male_style_promt.merge(df_styleProportion,on='styleType')\n",
    "df_female_style_promt['generationNumber']=(df_female_style_promt.proportionPriority*9600).astype(int)\n",
    "df_male_style_promt['generationNumber']=(df_male_style_promt.proportionPriority*6400).astype(int)"
   ]
  },
  {
   "cell_type": "code",
   "execution_count": 4,
   "metadata": {},
   "outputs": [],
   "source": [
    "df_female_style_promt['seasons']=[['winter','autumn','summer','spring']]*len(df_female_style_promt)\n",
    "df_male_style_promt['seasons']=[['winter','autumn','summer','spring']]*len(df_male_style_promt)\n",
    "df_female_style_promt['generationNumber']=df_female_style_promt.apply(lambda x: int(x['generationNumber']/len(x['seasons'])),axis=1)\n",
    "df_male_style_promt['generationNumber']=df_male_style_promt.apply(lambda x: int(x['generationNumber']/len(x['seasons'])),axis=1)"
   ]
  },
  {
   "cell_type": "code",
   "execution_count": 5,
   "metadata": {},
   "outputs": [],
   "source": [
    "df_female_style_promt=df_female_style_promt.explode('seasons').reset_index(drop=True)\n",
    "df_male_style_promt=df_male_style_promt.explode('seasons').reset_index(drop=True)"
   ]
  },
  {
   "cell_type": "code",
   "execution_count": 6,
   "metadata": {},
   "outputs": [],
   "source": [
    "list_promtTypeParams=df_male_style_promt['promtTypeParams'][0]\n",
    "season='autumn'\n",
    "style='casual'\n",
    "number=5\n",
    "tmplt_summer='''{\"layered_top\": \"value\",\n",
    "\"top\": \"value\",\n",
    "\"bottom\": \"value\",\n",
    "\"footwear\": \"value\"}'''\n",
    "tmplt_winter='''{\"outerwear\": \"value\",\n",
    "\"top\": \"value\",\n",
    "\"bottom\": \"value\",\n",
    "\"footwear\": \"value\"}'''"
   ]
  },
  {
   "cell_type": "code",
   "execution_count": null,
   "metadata": {},
   "outputs": [],
   "source": [
    "from src.msgs import get_right_msg\n",
    "print(get_right_msg(style=style,\n",
    "                  season=season,\n",
    "                  number=number,\n",
    "                  list_promtTypeParams=list_promtTypeParams,\n",
    "                  tmplt=tmplt_winter))"
   ]
  },
  {
   "cell_type": "code",
   "execution_count": 8,
   "metadata": {},
   "outputs": [],
   "source": [
    "from src.msgs import get_right_msg\n",
    "from fireworks.client import Fireworks\n",
    "def get_llm_response(msg):\n",
    "    client = Fireworks(api_key=\"fw_3ZkkhpugiDMHrjoXdFZ6D44c\")\n",
    "    response = client.chat.completions.create(\n",
    "    model=\"accounts/fireworks/models/llama-v3p1-405b-instruct\",\n",
    "    messages=[\n",
    "    {\n",
    "        \"role\": \"system\",\n",
    "        \"content\": \"You are fashion expert with extensive knowledge of clothing styles, clothing types and their combinations\"\n",
    "    },\n",
    "    {\n",
    "        \"role\": \"user\",\n",
    "        \"content\": msg\n",
    "    }\n",
    "    ],)\n",
    "    return response.choices[0].message.content\n"
   ]
  },
  {
   "cell_type": "code",
   "execution_count": 9,
   "metadata": {},
   "outputs": [
    {
     "ename": "FileNotFoundError",
     "evalue": "[Errno 2] No such file or directory: \"'data_llm/outputs/'spring_casual_male_5.txt\"",
     "output_type": "error",
     "traceback": [
      "\u001b[0;31m---------------------------------------------------------------------------\u001b[0m",
      "\u001b[0;31mFileNotFoundError\u001b[0m                         Traceback (most recent call last)",
      "Cell \u001b[0;32mIn[9], line 25\u001b[0m\n\u001b[1;32m     19\u001b[0m msg\u001b[38;5;241m=\u001b[39mget_right_msg(style\u001b[38;5;241m=\u001b[39mstyle,\n\u001b[1;32m     20\u001b[0m               season\u001b[38;5;241m=\u001b[39mseason,\n\u001b[1;32m     21\u001b[0m               number\u001b[38;5;241m=\u001b[39mnumber,\n\u001b[1;32m     22\u001b[0m               list_promtTypeParams\u001b[38;5;241m=\u001b[39mlist_promtTypeParams,\n\u001b[1;32m     23\u001b[0m               tmplt\u001b[38;5;241m=\u001b[39mtmplt)\n\u001b[1;32m     24\u001b[0m output\u001b[38;5;241m=\u001b[39mget_llm_response(msg)\n\u001b[0;32m---> 25\u001b[0m \u001b[38;5;28;01mwith\u001b[39;00m \u001b[38;5;28;43mopen\u001b[39;49m\u001b[43m(\u001b[49m\u001b[38;5;124;43mf\u001b[39;49m\u001b[38;5;124;43m\"\u001b[39;49m\u001b[38;5;124;43m'\u001b[39;49m\u001b[38;5;124;43mdata_llm/outputs/\u001b[39;49m\u001b[38;5;124;43m'\u001b[39;49m\u001b[38;5;132;43;01m{\u001b[39;49;00m\u001b[43mseason\u001b[49m\u001b[38;5;132;43;01m}\u001b[39;49;00m\u001b[38;5;124;43m_\u001b[39;49m\u001b[38;5;132;43;01m{\u001b[39;49;00m\u001b[43mstyle\u001b[49m\u001b[38;5;132;43;01m}\u001b[39;49;00m\u001b[38;5;124;43m_\u001b[39;49m\u001b[38;5;132;43;01m{\u001b[39;49;00m\u001b[43mgender\u001b[49m\u001b[38;5;132;43;01m}\u001b[39;49;00m\u001b[38;5;124;43m_\u001b[39;49m\u001b[38;5;132;43;01m{\u001b[39;49;00m\u001b[43mnumber\u001b[49m\u001b[38;5;132;43;01m}\u001b[39;49;00m\u001b[38;5;124;43m.txt\u001b[39;49m\u001b[38;5;124;43m\"\u001b[39;49m\u001b[43m,\u001b[49m\u001b[43m \u001b[49m\u001b[38;5;124;43m\"\u001b[39;49m\u001b[38;5;124;43mw\u001b[39;49m\u001b[38;5;124;43m\"\u001b[39;49m\u001b[43m)\u001b[49m \u001b[38;5;28;01mas\u001b[39;00m text_file:\n\u001b[1;32m     26\u001b[0m     text_file\u001b[38;5;241m.\u001b[39mwrite(output)\n",
      "File \u001b[0;32m~/anaconda3/envs/py39cu121py21/lib/python3.9/site-packages/IPython/core/interactiveshell.py:286\u001b[0m, in \u001b[0;36m_modified_open\u001b[0;34m(file, *args, **kwargs)\u001b[0m\n\u001b[1;32m    279\u001b[0m \u001b[38;5;28;01mif\u001b[39;00m file \u001b[38;5;129;01min\u001b[39;00m {\u001b[38;5;241m0\u001b[39m, \u001b[38;5;241m1\u001b[39m, \u001b[38;5;241m2\u001b[39m}:\n\u001b[1;32m    280\u001b[0m     \u001b[38;5;28;01mraise\u001b[39;00m \u001b[38;5;167;01mValueError\u001b[39;00m(\n\u001b[1;32m    281\u001b[0m         \u001b[38;5;124mf\u001b[39m\u001b[38;5;124m\"\u001b[39m\u001b[38;5;124mIPython won\u001b[39m\u001b[38;5;124m'\u001b[39m\u001b[38;5;124mt let you open fd=\u001b[39m\u001b[38;5;132;01m{\u001b[39;00mfile\u001b[38;5;132;01m}\u001b[39;00m\u001b[38;5;124m by default \u001b[39m\u001b[38;5;124m\"\u001b[39m\n\u001b[1;32m    282\u001b[0m         \u001b[38;5;124m\"\u001b[39m\u001b[38;5;124mas it is likely to crash IPython. If you know what you are doing, \u001b[39m\u001b[38;5;124m\"\u001b[39m\n\u001b[1;32m    283\u001b[0m         \u001b[38;5;124m\"\u001b[39m\u001b[38;5;124myou can use builtins\u001b[39m\u001b[38;5;124m'\u001b[39m\u001b[38;5;124m open.\u001b[39m\u001b[38;5;124m\"\u001b[39m\n\u001b[1;32m    284\u001b[0m     )\n\u001b[0;32m--> 286\u001b[0m \u001b[38;5;28;01mreturn\u001b[39;00m \u001b[43mio_open\u001b[49m\u001b[43m(\u001b[49m\u001b[43mfile\u001b[49m\u001b[43m,\u001b[49m\u001b[43m \u001b[49m\u001b[38;5;241;43m*\u001b[39;49m\u001b[43margs\u001b[49m\u001b[43m,\u001b[49m\u001b[43m \u001b[49m\u001b[38;5;241;43m*\u001b[39;49m\u001b[38;5;241;43m*\u001b[39;49m\u001b[43mkwargs\u001b[49m\u001b[43m)\u001b[49m\n",
      "\u001b[0;31mFileNotFoundError\u001b[0m: [Errno 2] No such file or directory: \"'data_llm/outputs/'spring_casual_male_5.txt\""
     ]
    }
   ],
   "source": [
    "for i in range(3,len(df_male_style_promt)):\n",
    "    gender='male'\n",
    "    list_promtTypeParams=df_male_style_promt['promtTypeParams'][i]\n",
    "    season=df_male_style_promt.seasons[i]\n",
    "    style=df_male_style_promt.styleType[i]\n",
    "    # number=df_male_style_promt.generationNumber[i]\n",
    "    number=5\n",
    "    if season=='summer' or season =='spring':\n",
    "        tmplt='''{\"layered_top\": \"value\",\n",
    "        \"top\": \"value\",\n",
    "        \"bottom\": \"value\",\n",
    "        \"footwear\": \"value\"}'''\n",
    "    else:\n",
    "        tmplt='''{\"outerwear\": \"value\",\n",
    "        \"top\": \"value\",\n",
    "        \"bottom\": \"value\",\n",
    "        \"footwear\": \"value\"}'''\n",
    "\n",
    "    msg=get_right_msg(style=style,\n",
    "                  season=season,\n",
    "                  number=number,\n",
    "                  list_promtTypeParams=list_promtTypeParams,\n",
    "                  tmplt=tmplt)\n",
    "    output=get_llm_response(msg)\n",
    "    with open(f\"'data_llm/outputs/'{season}_{style}_{gender}_{number}.txt\", \"w\") as text_file:\n",
    "        text_file.write(output)"
   ]
  },
  {
   "cell_type": "code",
   "execution_count": 13,
   "metadata": {},
   "outputs": [],
   "source": [
    "with open(f\"data_llm/outputs/{season}_{style}_{gender}_{number}.txt\", \"w\") as text_file:\n",
    "    text_file.write(output)"
   ]
  },
  {
   "cell_type": "code",
   "execution_count": 11,
   "metadata": {},
   "outputs": [
    {
     "data": {
      "text/plain": [
       "[{'layered_top': 'empty',\n",
       "  'top': 'fit-regular sweatshirt',\n",
       "  'bottom': 'fit-tapered waist-regular length-cropped joggers',\n",
       "  'footwear': 'low-top_sneakers'},\n",
       " {'layered_top': 'empty',\n",
       "  'top': 'fit-slim neckline-round_neck sweater',\n",
       "  'bottom': 'waist-regular fit-tapered length-cropped casual_trousers',\n",
       "  'footwear': 'high-top_sneakers'},\n",
       " {'layered_top': 'leather_jacket',\n",
       "  'top': 'fit-regular neckline-round_neck t-shirt',\n",
       "  'bottom': 'waist-regular fit-straight length-cropped jeans',\n",
       "  'footwear': 'boots'},\n",
       " {'layered_top': 'empty',\n",
       "  'top': 'fit-oversize hoodie',\n",
       "  'bottom': 'fit-wide waist-regular length-cropped joggers',\n",
       "  'footwear': 'low-top_sneakers'},\n",
       " {'layered_top': 'denim_jacket',\n",
       "  'top': 'fit-slim neckline-V-neck t-shirt',\n",
       "  'bottom': 'waist-regular fit-tapered length-cropped linen_trousers',\n",
       "  'footwear': 'chelsea_boots'}]"
      ]
     },
     "execution_count": 11,
     "metadata": {},
     "output_type": "execute_result"
    }
   ],
   "source": [
    "literal_eval(output.replace('null',\"'empty'\"))"
   ]
  },
  {
   "cell_type": "markdown",
   "metadata": {},
   "source": []
  }
 ],
 "metadata": {
  "kernelspec": {
   "display_name": "py39cu121py21",
   "language": "python",
   "name": "python3"
  },
  "language_info": {
   "codemirror_mode": {
    "name": "ipython",
    "version": 3
   },
   "file_extension": ".py",
   "mimetype": "text/x-python",
   "name": "python",
   "nbconvert_exporter": "python",
   "pygments_lexer": "ipython3",
   "version": "3.9.18"
  }
 },
 "nbformat": 4,
 "nbformat_minor": 2
}
